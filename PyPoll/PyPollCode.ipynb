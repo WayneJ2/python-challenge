{
 "cells": [
  {
   "cell_type": "code",
   "execution_count": 18,
   "id": "22329ab6",
   "metadata": {},
   "outputs": [
    {
     "name": "stdout",
     "output_type": "stream",
     "text": [
      "['Khan', 'Correy', 'Li', \"O'Tooley\"]\n",
      "2218231\n"
     ]
    }
   ],
   "source": [
    "import os\n",
    "import csv\n",
    "\n",
    "voters = []\n",
    "candidateOptions = []\n",
    "candidateDict = {}\n",
    "\n",
    "csvpath = os.path.join('.', 'Resources','election_data.csv')\n",
    "\n",
    "with open(csvpath) as voterfile:\n",
    "    csvreader = csv.reader(voterfile, delimiter=',')\n",
    "    csvheader = next(csvreader)  \n",
    "#     print(csvheader)\n",
    "#     for row in csvreader:\n",
    "#         print(row)\n",
    "\n",
    "    #Data reader and assignments\n",
    "    for data in csvreader:\n",
    "        voters.append(int(data[0]))\n",
    "        candidateVotes = data[2]\n",
    "        #Create candidate dictionary and counts\n",
    "        ##Count section modified from professor Drews code\n",
    "        if candidateVotes not in candidateOptions:    \n",
    "            candidateOptions.append(candidateVotes)\n",
    "            candidateDict[candidateVotes] = 0\n",
    "        candidateDict[candidateVotes] += 1\n",
    "    \n",
    "    \n",
    "    print(candidateOptions)\n",
    "    print(candidateDict['Khan'])\n",
    "    \n",
    "    #Calculations\n",
    "    totalVoters = int(len(voters))\n",
    "    ftotalVoters = \"{:,}\".format(len(voters))\n",
    "#     print(totalVoters)\n",
    "#     print(ftotalVoters)\n",
    "#     print(candidates)\n",
    "\n",
    "    \n",
    "    \n",
    "    \n",
    "    \n",
    "    \n",
    "    \n",
    "    \n",
    "    \n",
    "    #Exporting Results\n",
    "#     output_path = os.path.join(\".\", \"Analysis\", \"PyPoll_Results.txt\")\n",
    "    \n",
    "#     with open(output_path, 'w', newline='') as csvfile:\n",
    "#         csvwriter = csv.writer(csvfile, delimiter=' ')\n",
    "# #         csvwriter.writerow(['Election Results'])\n",
    "# #         csvwriter.writerow(['----------------------'])\n",
    "# #         csvwriter.writerow(['Total Votes: ' , ftotalVoters])\n",
    "# #         csvwriter.writerow(['Total: $' , ftotalAmt])\n",
    "# #         csvwriter.writerow(['Average Change: $', favgChange])\n",
    "# #         csvwriter.writerow(['Greatest Increase in Profits: $', fmaxChange, profitInc])\n",
    "# #         csvwriter.writerow(['----------------------'])\n",
    "# #         csvwriter.writerow(['Winner: ', ])\n",
    "# #         csvwriter.writerow(['----------------------'])\n",
    "\n",
    "#         csvwriter.writerow([])\n",
    "  \n",
    "    \n"
   ]
  },
  {
   "cell_type": "code",
   "execution_count": null,
   "id": "cc2625ac",
   "metadata": {},
   "outputs": [],
   "source": []
  },
  {
   "cell_type": "code",
   "execution_count": null,
   "id": "13114be7",
   "metadata": {},
   "outputs": [],
   "source": []
  }
 ],
 "metadata": {
  "kernelspec": {
   "display_name": "Python 3",
   "language": "python",
   "name": "python3"
  },
  "language_info": {
   "codemirror_mode": {
    "name": "ipython",
    "version": 3
   },
   "file_extension": ".py",
   "mimetype": "text/x-python",
   "name": "python",
   "nbconvert_exporter": "python",
   "pygments_lexer": "ipython3",
   "version": "3.8.8"
  }
 },
 "nbformat": 4,
 "nbformat_minor": 5
}
